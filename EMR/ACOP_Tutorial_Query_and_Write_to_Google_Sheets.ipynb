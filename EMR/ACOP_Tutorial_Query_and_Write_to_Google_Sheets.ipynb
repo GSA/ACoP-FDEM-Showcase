{
 "cells": [
  {
   "cell_type": "markdown",
   "id": "e2c0234f-6c42-46f3-8e22-d205cfd5f9c9",
   "metadata": {
    "tags": []
   },
   "source": [
    "# Sample Code to Query Data from and write to a Google Sheet\n",
    "<br/><br/>\n",
    "<br/><br/>\n",
    "## Query Data from a Google Sheet\n",
    "### Step 1: Share Google Sheet with the EMR service account\n",
    "Go to the google sheet you want to query data from and share it with the OCFO EMR service account: emr-gsheet-api@prj-p-bia-emr-uatgsheet.iam.gserviceaccount.com\n",
    "<br/><br/>\n",
    "<br/><br/>\n",
    "*Code modified from a script from https://github.helix.gsa.gov/EDA/Sample_Code* \n",
    "_______"
   ]
  },
  {
   "cell_type": "code",
   "execution_count": 19,
   "id": "2791272c-7ccf-4c98-a8c3-5aac6e1b0526",
   "metadata": {
    "execution": {
     "iopub.execute_input": "2024-06-25T12:25:13.391704Z",
     "iopub.status.busy": "2024-06-25T12:25:13.391115Z",
     "iopub.status.idle": "2024-06-25T12:25:13.580575Z",
     "shell.execute_reply": "2024-06-25T12:25:13.580016Z",
     "shell.execute_reply.started": "2024-06-25T12:25:13.391680Z"
    }
   },
   "outputs": [
    {
     "data": {
      "application/vnd.jupyter.widget-view+json": {
       "model_id": "41ed8faf03704b159bab7ebb1ba999ca",
       "version_major": 2,
       "version_minor": 0
      },
      "text/plain": [
       "VBox()"
      ]
     },
     "metadata": {},
     "output_type": "display_data"
    },
    {
     "data": {
      "application/vnd.jupyter.widget-view+json": {
       "model_id": "",
       "version_major": 2,
       "version_minor": 0
      },
      "text/plain": [
       "FloatProgress(value=0.0, bar_style='info', description='Progress:', layout=Layout(height='25px', width='50%'),…"
      ]
     },
     "metadata": {},
     "output_type": "display_data"
    },
    {
     "name": "stdout",
     "output_type": "stream",
     "text": [
      "2024-06-25 12:25:13.530469"
     ]
    }
   ],
   "source": [
    "import datetime\n",
    "\n",
    "print(datetime.datetime.now())"
   ]
  },
  {
   "cell_type": "code",
   "execution_count": 20,
   "id": "e1fdef0f-dc2b-4426-b0e8-a1ba1636ec6d",
   "metadata": {
    "execution": {
     "iopub.execute_input": "2024-06-25T12:25:13.582053Z",
     "iopub.status.busy": "2024-06-25T12:25:13.581566Z",
     "iopub.status.idle": "2024-06-25T12:25:25.750584Z",
     "shell.execute_reply": "2024-06-25T12:25:25.750116Z",
     "shell.execute_reply.started": "2024-06-25T12:25:13.582033Z"
    },
    "tags": []
   },
   "outputs": [
    {
     "name": "stdout",
     "output_type": "stream",
     "text": [
      "Starting Spark application\n"
     ]
    },
    {
     "data": {
      "text/html": [
       "<table>\n",
       "    <tr><th>ID</th><th>Kind</th><th>State</th><th>Spark UI</th><th>Driver log</th><th>User</th><th>Current session?</th></tr><tr><td>2</td><td>pyspark</td><td>idle</td><td><a target=\"_blank\" href=\"https://spark-live-ui.emr-serverless.amazonaws.com\" class=\"emr-proxy-link\" emr-runtime=\"emr-serverless\" emr-resource=\"00fkccj7faeldh0a\" application-id=\"00fje80pict0ku09\">Link</a></td><td></td><td>None</td><td>✔</td></tr></table>"
      ],
      "text/plain": [
       "<IPython.core.display.HTML object>"
      ]
     },
     "metadata": {},
     "output_type": "display_data"
    },
    {
     "data": {
      "application/vnd.jupyter.widget-view+json": {
       "model_id": "",
       "version_major": 2,
       "version_minor": 0
      },
      "text/plain": [
       "FloatProgress(value=0.0, bar_style='info', description='Progress:', layout=Layout(height='25px', width='50%'),…"
      ]
     },
     "metadata": {},
     "output_type": "display_data"
    },
    {
     "name": "stdout",
     "output_type": "stream",
     "text": [
      "SparkSession available as 'spark'.\n"
     ]
    },
    {
     "data": {
      "text/html": [
       "Current session configs: <tt>{'conf': {'spark.pyspark.python': 'python3', 'spark.pyspark.virtualenv.enabled': 'true', 'spark.pyspark.virtualenv.type': 'native', 'spark.pyspark.virtualenv.bin.path': '/usr/bin/virtualenv'}, 'driverMemory': '14G', 'driverCores': 4, 'executorMemory': '14G', 'executorCores': 4, 'numExecutors': 3, 'proxyUser': 'assumed-role_AWS-000-GP-FCS-prod-ocfo-MTEMRUser_isabelmetzger', 'kind': 'pyspark'}</tt><br>"
      ],
      "text/plain": [
       "<IPython.core.display.HTML object>"
      ]
     },
     "metadata": {},
     "output_type": "display_data"
    },
    {
     "data": {
      "text/html": [
       "<table>\n",
       "    <tr><th>ID</th><th>Kind</th><th>State</th><th>Spark UI</th><th>Driver log</th><th>User</th><th>Current session?</th></tr><tr><td>2</td><td>pyspark</td><td>idle</td><td><a target=\"_blank\" href=\"https://spark-live-ui.emr-serverless.amazonaws.com\" class=\"emr-proxy-link\" emr-runtime=\"emr-serverless\" emr-resource=\"00fkccj7faeldh0a\" application-id=\"00fje80pict0ku09\">Link</a></td><td></td><td>None</td><td>✔</td></tr></table>"
      ],
      "text/plain": [
       "<IPython.core.display.HTML object>"
      ]
     },
     "metadata": {},
     "output_type": "display_data"
    }
   ],
   "source": [
    "%%configure -f\n",
    "{\n",
    "    \"conf\": {\n",
    "        \"spark.pyspark.python\": \"python3\",\n",
    "        \"spark.pyspark.virtualenv.enabled\": \"true\",\n",
    "        \"spark.pyspark.virtualenv.type\":\"native\",\n",
    "        \"spark.pyspark.virtualenv.bin.path\":\"/usr/bin/virtualenv\"\n",
    "    }\n",
    "}"
   ]
  },
  {
   "cell_type": "markdown",
   "id": "b9a90b65-c85f-4306-b654-cebd797bd311",
   "metadata": {},
   "source": [
    "### Step 2: Import needed packages"
   ]
  },
  {
   "cell_type": "code",
   "execution_count": 21,
   "id": "c4bd933a-2d42-43f0-9479-4fb26dd8063a",
   "metadata": {
    "execution": {
     "iopub.execute_input": "2024-06-25T12:25:25.751583Z",
     "iopub.status.busy": "2024-06-25T12:25:25.751332Z",
     "iopub.status.idle": "2024-06-25T12:25:36.732426Z",
     "shell.execute_reply": "2024-06-25T12:25:36.731967Z",
     "shell.execute_reply.started": "2024-06-25T12:25:25.751563Z"
    },
    "tags": []
   },
   "outputs": [
    {
     "data": {
      "application/vnd.jupyter.widget-view+json": {
       "model_id": "54161bf8614e4508821f63c71af53580",
       "version_major": 2,
       "version_minor": 0
      },
      "text/plain": [
       "VBox()"
      ]
     },
     "metadata": {},
     "output_type": "display_data"
    },
    {
     "data": {
      "application/vnd.jupyter.widget-view+json": {
       "model_id": "",
       "version_major": 2,
       "version_minor": 0
      },
      "text/plain": [
       "FloatProgress(value=0.0, bar_style='info', description='Progress:', layout=Layout(height='25px', width='50%'),…"
      ]
     },
     "metadata": {},
     "output_type": "display_data"
    },
    {
     "name": "stdout",
     "output_type": "stream",
     "text": [
      "Collecting google-api-python-client\n",
      "  Downloading google_api_python_client-2.134.0-py2.py3-none-any.whl (11.9 MB)\n",
      "Collecting uritemplate<5,>=3.0.1\n",
      "  Downloading uritemplate-4.1.1-py2.py3-none-any.whl (10 kB)\n",
      "Collecting google-auth-httplib2<1.0.0,>=0.2.0\n",
      "  Downloading google_auth_httplib2-0.2.0-py2.py3-none-any.whl (9.3 kB)\n",
      "Collecting google-api-core!=2.0.*,!=2.1.*,!=2.2.*,!=2.3.0,<3.0.0.dev0,>=1.31.5\n",
      "  Downloading google_api_core-2.19.1-py3-none-any.whl (139 kB)\n",
      "Collecting httplib2<1.dev0,>=0.19.0\n",
      "  Downloading httplib2-0.22.0-py3-none-any.whl (96 kB)\n",
      "Collecting google-auth!=2.24.0,!=2.25.0,<3.0.0.dev0,>=1.32.0\n",
      "  Downloading google_auth-2.30.0-py2.py3-none-any.whl (193 kB)\n",
      "Collecting protobuf!=3.20.0,!=3.20.1,!=4.21.0,!=4.21.1,!=4.21.2,!=4.21.3,!=4.21.4,!=4.21.5,<6.0.0.dev0,>=3.19.5\n",
      "  Downloading protobuf-5.27.1-cp38-abi3-manylinux2014_x86_64.whl (309 kB)\n",
      "Collecting requests<3.0.0.dev0,>=2.18.0\n",
      "  Downloading requests-2.32.3-py3-none-any.whl (64 kB)\n",
      "Collecting proto-plus<2.0.0dev,>=1.22.3\n",
      "  Downloading proto_plus-1.24.0-py3-none-any.whl (50 kB)\n",
      "Collecting googleapis-common-protos<2.0.dev0,>=1.56.2\n",
      "  Downloading googleapis_common_protos-1.63.2-py2.py3-none-any.whl (220 kB)\n",
      "Collecting pyasn1-modules>=0.2.1\n",
      "  Downloading pyasn1_modules-0.4.0-py3-none-any.whl (181 kB)\n",
      "Collecting cachetools<6.0,>=2.0.0\n",
      "  Downloading cachetools-5.3.3-py3-none-any.whl (9.3 kB)\n",
      "Collecting rsa<5,>=3.1.4\n",
      "  Downloading rsa-4.9-py3-none-any.whl (34 kB)\n",
      "Collecting pyparsing!=3.0.0,!=3.0.1,!=3.0.2,!=3.0.3,<4,>=2.4.2\n",
      "  Downloading pyparsing-3.1.2-py3-none-any.whl (103 kB)\n",
      "Collecting pyasn1<0.7.0,>=0.4.6\n",
      "  Downloading pyasn1-0.6.0-py2.py3-none-any.whl (85 kB)\n",
      "Requirement already satisfied: idna<4,>=2.5 in /usr/lib/python3.9/site-packages (from requests<3.0.0.dev0,>=2.18.0->google-api-core!=2.0.*,!=2.1.*,!=2.2.*,!=2.3.0,<3.0.0.dev0,>=1.31.5->google-api-python-client) (2.10)\n",
      "Collecting charset-normalizer<4,>=2\n",
      "  Downloading charset_normalizer-3.3.2-cp39-cp39-manylinux_2_17_x86_64.manylinux2014_x86_64.whl (142 kB)\n",
      "Requirement already satisfied: urllib3<3,>=1.21.1 in /usr/lib/python3.9/site-packages (from requests<3.0.0.dev0,>=2.18.0->google-api-core!=2.0.*,!=2.1.*,!=2.2.*,!=2.3.0,<3.0.0.dev0,>=1.31.5->google-api-python-client) (1.25.10)\n",
      "Collecting certifi>=2017.4.17\n",
      "  Downloading certifi-2024.6.2-py3-none-any.whl (164 kB)\n",
      "Installing collected packages: pyasn1, rsa, pyparsing, pyasn1-modules, protobuf, charset-normalizer, certifi, cachetools, requests, proto-plus, httplib2, googleapis-common-protos, google-auth, uritemplate, google-auth-httplib2, google-api-core, google-api-python-client\n",
      "Successfully installed cachetools-5.3.3 certifi-2024.6.2 charset-normalizer-3.3.2 google-api-core-2.19.1 google-api-python-client-2.134.0 google-auth-2.30.0 google-auth-httplib2-0.2.0 googleapis-common-protos-1.63.2 httplib2-0.22.0 proto-plus-1.24.0 protobuf-5.27.1 pyasn1-0.6.0 pyasn1-modules-0.4.0 pyparsing-3.1.2 requests-2.32.3 rsa-4.9 uritemplate-4.1.1\n",
      "\n",
      "Collecting google-auth-oauthlib\n",
      "  Downloading google_auth_oauthlib-1.2.0-py2.py3-none-any.whl (24 kB)\n",
      "Collecting requests-oauthlib>=0.7.0\n",
      "  Downloading requests_oauthlib-2.0.0-py2.py3-none-any.whl (24 kB)\n",
      "Requirement already satisfied: google-auth>=2.15.0 in /tmp/spark-d76ae3d8-b01e-47d7-b7bc-ed57c1b0976d/lib/python3.9/site-packages (from google-auth-oauthlib) (2.30.0)\n",
      "Requirement already satisfied: cachetools<6.0,>=2.0.0 in /tmp/spark-d76ae3d8-b01e-47d7-b7bc-ed57c1b0976d/lib/python3.9/site-packages (from google-auth>=2.15.0->google-auth-oauthlib) (5.3.3)\n",
      "Requirement already satisfied: rsa<5,>=3.1.4 in /tmp/spark-d76ae3d8-b01e-47d7-b7bc-ed57c1b0976d/lib/python3.9/site-packages (from google-auth>=2.15.0->google-auth-oauthlib) (4.9)\n",
      "Requirement already satisfied: pyasn1-modules>=0.2.1 in /tmp/spark-d76ae3d8-b01e-47d7-b7bc-ed57c1b0976d/lib/python3.9/site-packages (from google-auth>=2.15.0->google-auth-oauthlib) (0.4.0)\n",
      "Requirement already satisfied: requests>=2.0.0 in /tmp/spark-d76ae3d8-b01e-47d7-b7bc-ed57c1b0976d/lib/python3.9/site-packages (from requests-oauthlib>=0.7.0->google-auth-oauthlib) (2.32.3)\n",
      "Collecting oauthlib>=3.0.0\n",
      "  Downloading oauthlib-3.2.2-py3-none-any.whl (151 kB)\n",
      "Requirement already satisfied: pyasn1<0.7.0,>=0.4.6 in /tmp/spark-d76ae3d8-b01e-47d7-b7bc-ed57c1b0976d/lib/python3.9/site-packages (from pyasn1-modules>=0.2.1->google-auth>=2.15.0->google-auth-oauthlib) (0.6.0)\n",
      "Requirement already satisfied: idna<4,>=2.5 in /usr/lib/python3.9/site-packages (from requests>=2.0.0->requests-oauthlib>=0.7.0->google-auth-oauthlib) (2.10)\n",
      "Requirement already satisfied: charset-normalizer<4,>=2 in /tmp/spark-d76ae3d8-b01e-47d7-b7bc-ed57c1b0976d/lib64/python3.9/site-packages (from requests>=2.0.0->requests-oauthlib>=0.7.0->google-auth-oauthlib) (3.3.2)\n",
      "Requirement already satisfied: certifi>=2017.4.17 in /tmp/spark-d76ae3d8-b01e-47d7-b7bc-ed57c1b0976d/lib/python3.9/site-packages (from requests>=2.0.0->requests-oauthlib>=0.7.0->google-auth-oauthlib) (2024.6.2)\n",
      "Requirement already satisfied: urllib3<3,>=1.21.1 in /usr/lib/python3.9/site-packages (from requests>=2.0.0->requests-oauthlib>=0.7.0->google-auth-oauthlib) (1.25.10)\n",
      "Installing collected packages: oauthlib, requests-oauthlib, google-auth-oauthlib\n",
      "Successfully installed google-auth-oauthlib-1.2.0 oauthlib-3.2.2 requests-oauthlib-2.0.0\n",
      "\n",
      "Requirement already satisfied: google-auth-httplib2 in /tmp/spark-d76ae3d8-b01e-47d7-b7bc-ed57c1b0976d/lib/python3.9/site-packages (0.2.0)\n",
      "Requirement already satisfied: google-auth in /tmp/spark-d76ae3d8-b01e-47d7-b7bc-ed57c1b0976d/lib/python3.9/site-packages (from google-auth-httplib2) (2.30.0)\n",
      "Requirement already satisfied: httplib2>=0.19.0 in /tmp/spark-d76ae3d8-b01e-47d7-b7bc-ed57c1b0976d/lib/python3.9/site-packages (from google-auth-httplib2) (0.22.0)\n",
      "Requirement already satisfied: pyparsing!=3.0.0,!=3.0.1,!=3.0.2,!=3.0.3,<4,>=2.4.2 in /tmp/spark-d76ae3d8-b01e-47d7-b7bc-ed57c1b0976d/lib/python3.9/site-packages (from httplib2>=0.19.0->google-auth-httplib2) (3.1.2)\n",
      "Requirement already satisfied: rsa<5,>=3.1.4 in /tmp/spark-d76ae3d8-b01e-47d7-b7bc-ed57c1b0976d/lib/python3.9/site-packages (from google-auth->google-auth-httplib2) (4.9)\n",
      "Requirement already satisfied: cachetools<6.0,>=2.0.0 in /tmp/spark-d76ae3d8-b01e-47d7-b7bc-ed57c1b0976d/lib/python3.9/site-packages (from google-auth->google-auth-httplib2) (5.3.3)\n",
      "Requirement already satisfied: pyasn1-modules>=0.2.1 in /tmp/spark-d76ae3d8-b01e-47d7-b7bc-ed57c1b0976d/lib/python3.9/site-packages (from google-auth->google-auth-httplib2) (0.4.0)\n",
      "Requirement already satisfied: pyasn1<0.7.0,>=0.4.6 in /tmp/spark-d76ae3d8-b01e-47d7-b7bc-ed57c1b0976d/lib/python3.9/site-packages (from pyasn1-modules>=0.2.1->google-auth->google-auth-httplib2) (0.6.0)"
     ]
    }
   ],
   "source": [
    "# install necessary packages\n",
    "sc.install_pypi_package(\"google-api-python-client\")\n",
    "sc.install_pypi_package(\"google-auth-oauthlib\")\n",
    "sc.install_pypi_package(\"google-auth-httplib2\")\n",
    "# import packages for google api and authentication and data reading pandas\n",
    "from googleapiclient.discovery import build\n",
    "from google.oauth2 import service_account\n",
    "import pandas as pd"
   ]
  },
  {
   "cell_type": "markdown",
   "id": "16eac223-c18d-4d1f-a43f-f592ab4ebcdb",
   "metadata": {},
   "source": [
    "<br/><br/>\n",
    "<br/><br/>\n",
    "____\n",
    "### Step 3: Input needed parameters\n",
    "- Using example: \n",
    "https://docs.google.com/spreadsheets/d/1G3YXcXBC2J6AFOpxYg2WfSsjtg0p4xAgd5WEy2TSb2k/edit?gid=0#gid=0"
   ]
  },
  {
   "cell_type": "code",
   "execution_count": 22,
   "id": "7b7f0219-902b-4a25-b20c-8a28e2130335",
   "metadata": {
    "execution": {
     "iopub.execute_input": "2024-06-25T12:25:36.733448Z",
     "iopub.status.busy": "2024-06-25T12:25:36.733194Z",
     "iopub.status.idle": "2024-06-25T12:25:36.886170Z",
     "shell.execute_reply": "2024-06-25T12:25:36.885685Z",
     "shell.execute_reply.started": "2024-06-25T12:25:36.733429Z"
    },
    "tags": []
   },
   "outputs": [
    {
     "data": {
      "application/vnd.jupyter.widget-view+json": {
       "model_id": "0dcbe39277374697b0a8c0613674ba22",
       "version_major": 2,
       "version_minor": 0
      },
      "text/plain": [
       "VBox()"
      ]
     },
     "metadata": {},
     "output_type": "display_data"
    },
    {
     "data": {
      "application/vnd.jupyter.widget-view+json": {
       "model_id": "",
       "version_major": 2,
       "version_minor": 0
      },
      "text/plain": [
       "FloatProgress(value=0.0, bar_style='info', description='Progress:', layout=Layout(height='25px', width='50%'),…"
      ]
     },
     "metadata": {},
     "output_type": "display_data"
    }
   ],
   "source": [
    "# link to google sheet used in this example https://docs.google.com/spreadsheets/d/1G3YXcXBC2J6AFOpxYg2WfSsjtg0p4xAgd5WEy2TSb2k/edit?gid=0#gid=0\n",
    "## it is revenue projection errors from cbo evals output\n",
    "SPREADSHEET_ID = \"1G3YXcXBC2J6AFOpxYg2WfSsjtg0p4xAgd5WEy2TSb2k\"\n",
    "\n",
    "RANGE_NAME = \"Sheet1!A1:M14\" \n",
    "CHANGE_RANGE_NAME = \"Sheet1!A15\"\n"
   ]
  },
  {
   "cell_type": "code",
   "execution_count": 23,
   "id": "7c102921-c281-4964-9440-9da56099cc3b",
   "metadata": {
    "execution": {
     "iopub.execute_input": "2024-06-25T12:25:36.887225Z",
     "iopub.status.busy": "2024-06-25T12:25:36.886828Z",
     "iopub.status.idle": "2024-06-25T12:26:24.980036Z",
     "shell.execute_reply": "2024-06-25T12:26:24.979583Z",
     "shell.execute_reply.started": "2024-06-25T12:25:36.887201Z"
    },
    "tags": []
   },
   "outputs": [
    {
     "data": {
      "application/vnd.jupyter.widget-view+json": {
       "model_id": "e9430765cc344299aefb0ccf5c98afca",
       "version_major": 2,
       "version_minor": 0
      },
      "text/plain": [
       "VBox()"
      ]
     },
     "metadata": {},
     "output_type": "display_data"
    },
    {
     "data": {
      "application/vnd.jupyter.widget-view+json": {
       "model_id": "",
       "version_major": 2,
       "version_minor": 0
      },
      "text/plain": [
       "FloatProgress(value=0.0, bar_style='info', description='Progress:', layout=Layout(height='25px', width='50%'),…"
      ]
     },
     "metadata": {},
     "output_type": "display_data"
    }
   ],
   "source": [
    "#Gather Service Account Credentials\n",
    "\n",
    "\n",
    "def read_service_account_credentials(SERVICE_ACCOUNT_FILE):\n",
    "    \"\"\"This function reads in the service account credentials (the json from Google Developer) from S3 and returns credentials in a dictionary\n",
    "        SERVICE_ACCOUNT_FILE (str): the S3 path of json keys\n",
    "    \"\"\"\n",
    "    file = spark.read.option(\"multiline\",\"true\").json(SERVICE_ACCOUNT_FILE)\n",
    "    json_map = map(lambda row: row.asDict(), file.collect())\n",
    "    for a in json_map:\n",
    "         json_dict = a\n",
    "            \n",
    "    return json_dict\n",
    "        \n",
    "SERVICE_ACCOUNT_FILE = \"s3://712311343692-bsp-lde-external/OCFO/PRD/IZZY_METZGER/prj-p-bia-emr-uatgsheet-bbd21d4dbfe0-keys.json\"\n",
    "\n",
    "json_dict_credentials = read_service_account_credentials(SERVICE_ACCOUNT_FILE)"
   ]
  },
  {
   "cell_type": "markdown",
   "id": "db49c8d6-77d1-4752-9c06-5d535b0bb463",
   "metadata": {},
   "source": [
    "<br/><br/>\n",
    "<br/><br/>\n",
    "____\n",
    "### Step 4: Define queryGoogleSheet function"
   ]
  },
  {
   "cell_type": "code",
   "execution_count": 24,
   "id": "f6d5d180-8b09-4646-bf0e-d1602c59d222",
   "metadata": {
    "execution": {
     "iopub.execute_input": "2024-06-25T12:26:24.980869Z",
     "iopub.status.busy": "2024-06-25T12:26:24.980748Z",
     "iopub.status.idle": "2024-06-25T12:26:25.139587Z",
     "shell.execute_reply": "2024-06-25T12:26:25.139162Z",
     "shell.execute_reply.started": "2024-06-25T12:26:24.980851Z"
    },
    "tags": []
   },
   "outputs": [
    {
     "data": {
      "application/vnd.jupyter.widget-view+json": {
       "model_id": "f17791255bde44bfbae5cb135949910c",
       "version_major": 2,
       "version_minor": 0
      },
      "text/plain": [
       "VBox()"
      ]
     },
     "metadata": {},
     "output_type": "display_data"
    },
    {
     "data": {
      "application/vnd.jupyter.widget-view+json": {
       "model_id": "",
       "version_major": 2,
       "version_minor": 0
      },
      "text/plain": [
       "FloatProgress(value=0.0, bar_style='info', description='Progress:', layout=Layout(height='25px', width='50%'),…"
      ]
     },
     "metadata": {},
     "output_type": "display_data"
    }
   ],
   "source": [
    "from google.oauth2 import service_account\n",
    "\n",
    "def queryGoogleSheet(SPREADSHEET_ID, RANGE_NAME, json_dict_credentials):\n",
    "    '''The queryGoogleSheet function, as the name implies, queries data from a specific range in a google sheet\n",
    "       \n",
    "       It takes three params:\n",
    "            SPREADSHEET_ID (str): the id of the google sheet you want to query that you have already shared with the service account\n",
    "            RANGE_NAME (str): The range where the data you want to query lives\n",
    "            json_dict_credentials : google api key credentials\n",
    "            \n",
    "       returns PySpark DataFrame of the query'''\n",
    "    \n",
    "\n",
    "    creds = service_account.Credentials.from_service_account_info(\n",
    "        json_dict_credentials)\n",
    "    \n",
    "    # Call the Sheets API\n",
    "    service = build('sheets', 'v4', credentials=creds)\n",
    "    sheet = service.spreadsheets()\n",
    "    result = sheet.values().get(spreadsheetId=SPREADSHEET_ID, range=RANGE_NAME).execute()\n",
    "\n",
    "    values = result.get('values', [])\n",
    "\n",
    "    df  = pd.DataFrame(values, columns = values[0]).drop(0)\n",
    "    outDF= spark.createDataFrame(df)\n",
    "    return outDF"
   ]
  },
  {
   "cell_type": "markdown",
   "id": "f50d3c10-6bf5-47a1-9c5e-27a4051e3aab",
   "metadata": {},
   "source": [
    "<br/><br/>\n",
    "<br/><br/>\n",
    "____\n",
    "## Step 5: Call queryGoogleSheet function"
   ]
  },
  {
   "cell_type": "code",
   "execution_count": 25,
   "id": "61e86258-fee7-473c-81aa-3e83cb034974",
   "metadata": {
    "execution": {
     "iopub.execute_input": "2024-06-25T12:26:25.140468Z",
     "iopub.status.busy": "2024-06-25T12:26:25.140243Z",
     "iopub.status.idle": "2024-06-25T12:26:56.980893Z",
     "shell.execute_reply": "2024-06-25T12:26:56.980427Z",
     "shell.execute_reply.started": "2024-06-25T12:26:25.140451Z"
    },
    "tags": []
   },
   "outputs": [
    {
     "data": {
      "application/vnd.jupyter.widget-view+json": {
       "model_id": "480f908194df450a983be802ac6c585b",
       "version_major": 2,
       "version_minor": 0
      },
      "text/plain": [
       "VBox()"
      ]
     },
     "metadata": {},
     "output_type": "display_data"
    },
    {
     "data": {
      "application/vnd.jupyter.widget-view+json": {
       "model_id": "",
       "version_major": 2,
       "version_minor": 0
      },
      "text/plain": [
       "FloatProgress(value=0.0, bar_style='info', description='Progress:', layout=Layout(height='25px', width='50%'),…"
      ]
     },
     "metadata": {},
     "output_type": "display_data"
    },
    {
     "name": "stdout",
     "output_type": "stream",
     "text": [
      "+---------+--------+-----------+-------------+-----------+-----------+---------------------+---------------------+--------+------------+--------+--------------------------+-------------------+\n",
      "|component|category|subcategory|baseline_date|Spring_flag|Winter_flag|projected_fiscal_year|projected_year_number|   value|actual_value|     GDP|legislative_revenue_change|adjusted_projection|\n",
      "+---------+--------+-----------+-------------+-----------+-----------+---------------------+---------------------+--------+------------+--------+--------------------------+-------------------+\n",
      "|  revenue|   Total|      Total|   1982-02-01|      FALSE|       TRUE|                 1982|                    1|     631|     617.766| 3313.35|                         0|                631|\n",
      "|  revenue|   Total|      Total|   1983-02-01|      FALSE|       TRUE|                 1983|                    1|     606|     600.562|    3536|                         0|                606|\n",
      "|  revenue|   Total|      Total|   1984-02-01|      FALSE|       TRUE|                 1984|                    1|     663|     666.438|3949.175|                       0.9|              663.9|\n",
      "|  revenue|   Total|      Total|   1985-02-01|      FALSE|       TRUE|                 1985|                    1|  734.94|     734.037|4265.125|                     -0.15|             734.79|\n",
      "|  revenue|   Total|      Total|   1986-02-01|      FALSE|       TRUE|                 1986|                    1| 777.832|     769.155| 4526.25|                     0.765|            778.597|\n",
      "|  revenue|   Total|      Total|   1987-01-01|      FALSE|       TRUE|                 1987|                    1| 833.855|     854.287| 4767.65|                     0.002|            833.857|\n",
      "|  revenue|   Total|      Total|   1988-02-01|      FALSE|       TRUE|                 1988|                    1| 897.336|     909.238| 5138.55|                         0|            897.336|\n",
      "|  revenue|   Total|      Total|   1989-01-01|      FALSE|       TRUE|                 1989|                    1|   982.9|     991.104|5554.675|                     0.455|            983.355|\n",
      "|  revenue|   Total|      Total|   1990-01-01|      FALSE|       TRUE|                 1990|                    1|1067.168|    1031.958| 5898.75|                         0|           1067.168|\n",
      "|  revenue|   Total|      Total|   1991-01-01|      FALSE|       TRUE|                 1991|                    1|1093.781|    1054.988|6093.175|                    -0.733|           1093.048|\n",
      "|  revenue|   Total|      Total|   1992-01-01|      FALSE|       TRUE|                 1992|                    1|1102.444|    1091.208| 6416.25|                   -14.549|           1087.895|\n",
      "|  revenue|   Total|      Total|   1993-01-01|      FALSE|       TRUE|                 1993|                    1|1142.653|    1154.334|6775.325|                         0|           1142.653|\n",
      "|  revenue|   Total|      Total|   1994-01-01|      FALSE|       TRUE|                 1994|                    1| 1250.51|    1258.566| 7176.85|                         0|            1250.51|\n",
      "+---------+--------+-----------+-------------+-----------+-----------+---------------------+---------------------+--------+------------+--------+--------------------------+-------------------+"
     ]
    }
   ],
   "source": [
    "Results = queryGoogleSheet(SPREADSHEET_ID, RANGE_NAME, json_dict_credentials)\n",
    "Results.show()"
   ]
  },
  {
   "cell_type": "markdown",
   "id": "b22032ce-9828-4bf3-b663-1bbf4951a253",
   "metadata": {
    "tags": []
   },
   "source": [
    "<br/><br/>\n",
    "<br/><br/>\n",
    "____\n",
    "## Write Data to a google sheet"
   ]
  },
  {
   "cell_type": "code",
   "execution_count": 26,
   "id": "7b676f20-3227-4e5b-801b-247b65df77e8",
   "metadata": {
    "execution": {
     "iopub.execute_input": "2024-06-25T12:26:56.981823Z",
     "iopub.status.busy": "2024-06-25T12:26:56.981655Z",
     "iopub.status.idle": "2024-06-25T12:26:57.871849Z",
     "shell.execute_reply": "2024-06-25T12:26:57.871316Z",
     "shell.execute_reply.started": "2024-06-25T12:26:56.981804Z"
    },
    "tags": []
   },
   "outputs": [
    {
     "data": {
      "application/vnd.jupyter.widget-view+json": {
       "model_id": "5b3e441567a74333bf2318740825669c",
       "version_major": 2,
       "version_minor": 0
      },
      "text/plain": [
       "VBox()"
      ]
     },
     "metadata": {},
     "output_type": "display_data"
    },
    {
     "data": {
      "application/vnd.jupyter.widget-view+json": {
       "model_id": "",
       "version_major": 2,
       "version_minor": 0
      },
      "text/plain": [
       "FloatProgress(value=0.0, bar_style='info', description='Progress:', layout=Layout(height='25px', width='50%'),…"
      ]
     },
     "metadata": {},
     "output_type": "display_data"
    }
   ],
   "source": [
    "creds = service_account.Credentials.from_service_account_info(\n",
    "        json_dict_credentials)\n",
    "    \n",
    "    # Call the Sheets API\n",
    "service = build('sheets', 'v4', credentials=creds)\n",
    "\n",
    "update_data = [[\"This\",\t\"is\", \"an\", \"updated\", \"row\", \"1\"]]\n",
    "sheet = service.spreadsheets()\n",
    "request = sheet.values().update(spreadsheetId=SPREADSHEET_ID, \n",
    "                                range=CHANGE_RANGE_NAME, \n",
    "                                valueInputOption=\"RAW\", \n",
    "                                body={\"values\":update_data}).execute()\n",
    "\n"
   ]
  },
  {
   "cell_type": "code",
   "execution_count": 27,
   "id": "0b47c77d-2844-4611-88e6-7b2644e0cc34",
   "metadata": {
    "execution": {
     "iopub.execute_input": "2024-06-25T12:26:57.872783Z",
     "iopub.status.busy": "2024-06-25T12:26:57.872614Z",
     "iopub.status.idle": "2024-06-25T12:26:58.017376Z",
     "shell.execute_reply": "2024-06-25T12:26:58.016800Z",
     "shell.execute_reply.started": "2024-06-25T12:26:57.872765Z"
    },
    "tags": []
   },
   "outputs": [
    {
     "data": {
      "application/vnd.jupyter.widget-view+json": {
       "model_id": "a0b88e61e2d14e18b335ea593e34b350",
       "version_major": 2,
       "version_minor": 0
      },
      "text/plain": [
       "VBox()"
      ]
     },
     "metadata": {},
     "output_type": "display_data"
    },
    {
     "data": {
      "application/vnd.jupyter.widget-view+json": {
       "model_id": "",
       "version_major": 2,
       "version_minor": 0
      },
      "text/plain": [
       "FloatProgress(value=0.0, bar_style='info', description='Progress:', layout=Layout(height='25px', width='50%'),…"
      ]
     },
     "metadata": {},
     "output_type": "display_data"
    },
    {
     "name": "stdout",
     "output_type": "stream",
     "text": [
      "2024-06-25 12:26:57.983921"
     ]
    }
   ],
   "source": [
    "import datetime\n",
    "print(datetime.datetime.now())"
   ]
  },
  {
   "cell_type": "code",
   "execution_count": null,
   "id": "3e56724f-23c9-49d0-b0fc-abdd0e89faf2",
   "metadata": {
    "tags": []
   },
   "outputs": [],
   "source": []
  },
  {
   "cell_type": "markdown",
   "id": "8b5458a9",
   "metadata": {},
   "source": [
    "<br/><br/>\n",
    "<br/><br/>\n",
    "____\n",
    "## Appendix: Steps to activate API\n",
    "**Note: steps are here for you to reference**\n",
    "\n",
    "Youtube help link (start min 3:30): https://www.youtube.com/watch?v=4ssigWmExak&t=10s\n",
    "\n",
    "- Create ticket in service now so that GSA Google team can createa project in Developers console: https://console.cloud.google.com/apis/dashboard (cannot seem to use gsa email to create project.. I used a different email to create project and i can still pull gsa google sheets)\n",
    "- request for google sheets api to be enabled\n",
    "- Search google sheets api and enable - they will Create credentials in google sheets api\n",
    "- copy this email and go to google sheets page you want to pull and share google sheets to service account email and make it an editor\n",
    "-  click on your service account in google developers console and add key -> create new key as json\n",
    "- Download your key and upload to location in s3\n",
    "- change SERVICE_ACCOUNT_FILE below to new s3 location of json keys\n",
    "- change SAMPLE_RANGE_NAME to range of google sheet you want to change\n",
    "- change SAMPLE_SPREADSHEET_ID to google sheet id which is located in the google sheet url EX:https://docs.google.com/spreadsheets/d/1kxqidEneTbs4WF8WCg1dSJjcOgL77YXlbZFRwVWfnSs/edit#gid=0\n",
    "id = 1kxqidEneTbs4WF8WCg1dSJjcOgL77YXlbZFRwVWfnSs\n",
    "- run this code below to read in google sheet and then write out to google sheet "
   ]
  },
  {
   "cell_type": "code",
   "execution_count": null,
   "id": "507b5a42-529d-48bc-86d3-c8de487e93c8",
   "metadata": {},
   "outputs": [],
   "source": []
  },
  {
   "cell_type": "code",
   "execution_count": null,
   "id": "6a371082-5e87-4b7e-97d8-28b3586555af",
   "metadata": {},
   "outputs": [],
   "source": []
  }
 ],
 "metadata": {
  "kernelspec": {
   "display_name": "PySpark",
   "language": "python",
   "name": "spark_magic_pyspark"
  },
  "language_info": {
   "codemirror_mode": {
    "name": "python",
    "version": 3
   },
   "file_extension": ".py",
   "mimetype": "text/x-python",
   "name": "pyspark",
   "pygments_lexer": "python3"
  }
 },
 "nbformat": 4,
 "nbformat_minor": 5
}
